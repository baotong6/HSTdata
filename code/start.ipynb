{
 "cells": [
  {
   "cell_type": "markdown",
   "metadata": {},
   "source": [
    "# Download HST data\n",
    "1.https://mast.stsci.edu/portal/Mashup/Clients/Mast/Portal.html\n",
    "\n",
    "2.Python astroquery https://astroquery.readthedocs.io/en/latest/mast/mast.html\n",
    "### HST的instrument信息\n",
    "-----------------------------------------------------------\n",
    "### Instrument                                                                    Detectors\n",
    "Advanced Camera for Surveys (ACS1)\t                    Wide Field Channel (WFC), Solar Blind Channel (SBC)\n",
    "Cosmic Origins Spectrograph (COS)\t                    FUV Channel, NUV Channel\n",
    "Space Telescope Imaging Spectrograph (STIS)         \tCCD, NUV-MAMA, FUV-MAMA\n",
    "Wide Field Camera 3 (WFC3)\t                            UV/Visible Channel (UVIS) Infrared Channel (IR)\n",
    "\n"
   ]
  },
  {
   "cell_type": "markdown",
   "metadata": {},
   "source": [
    "##  Queries"
   ]
  },
  {
   "cell_type": "code",
   "execution_count": 10,
   "metadata": {},
   "outputs": [
    {
     "name": "stdout",
     "output_type": "stream",
     "text": [
      "dataproduct_type calib_level obs_collection ... intentType   obsid      objID   \n",
      "---------------- ----------- -------------- ... ---------- ---------- ----------\n",
      "           image           1            HST ...    science 2003520267 2023816094\n",
      "           image           1            HST ...    science 2003520266 2023816134\n",
      "           image           1            HST ...    science 2003520268 2025756935\n",
      "2291\n",
      "430\n"
     ]
    }
   ],
   "source": [
    "from astroquery.mast import Observations\n",
    "obs_table = Observations.query_region(\"322.49324 12.16683\")\n",
    "obs_table = Observations.query_object(\"47Tuc\",radius=\".02 deg\") \n",
    "obs_table = Observations.query_criteria(dataproduct_type=[\"image\"],proposal_pi=\"Osten*\", s_dec=[43.5,45.5])\n",
    "print(obs_table[:10])\n",
    "\n",
    "##-------计算观测数目---------##\n",
    "print(Observations.query_region_count(\"322.49324 12.16683\"))\n",
    "print(Observations.query_object_count(\"M8\",radius=\".02 deg\"))\n",
    "obs_table = Observations.query_criteria_count(dataproduct_type=[\"image\"],proposal_pi=\"Osten*\", s_dec=[43.5,45.5])\n"
   ]
  },
  {
   "cell_type": "markdown",
   "metadata": {},
   "source": [
    "## Metadata Queries"
   ]
  },
  {
   "cell_type": "code",
   "execution_count": 12,
   "metadata": {},
   "outputs": [
    {
     "name": "stdout",
     "output_type": "stream",
     "text": [
      "['BEFS', 'EUVE', 'FUSE', 'GALEX', 'HLA', 'HLSP', 'HST', 'HUT', 'IUE', 'JWST', 'K2', 'K2FFI', 'Kepler', 'KeplerFFI', 'PS1', 'SPITZER_SHA', 'SWIFT', 'TESS', 'TUES', 'WUPPE']\n",
      "  Column Name    ...\n",
      "---------------- ...\n",
      "          obs_id ...\n",
      "           obsID ...\n",
      "  obs_collection ...\n",
      "dataproduct_type ...\n",
      "     description ...\n"
     ]
    }
   ],
   "source": [
    "print(Observations.list_missions())\n",
    "meta_table = Observations.get_metadata(\"observations\")\n",
    "meta_table = Observations.get_metadata(\"products\")\n",
    "print(meta_table[:5])"
   ]
  },
  {
   "cell_type": "markdown",
   "metadata": {},
   "source": [
    "## Downloading"
   ]
  },
  {
   "cell_type": "code",
   "execution_count": 13,
   "metadata": {},
   "outputs": [
    {
     "name": "stdout",
     "output_type": "stream",
     "text": [
      "   obsID    obs_collection dataproduct_type ...   size   parent_obsid\n",
      "----------- -------------- ---------------- ... -------- ------------\n",
      "17000033645           TESS            image ... 35547840  17000035426\n",
      "17000033645           TESS            image ... 17775360  17000035426\n",
      "17000033659           TESS            image ... 35547840  17000035426\n",
      "17000033659           TESS            image ... 17775360  17000035426\n",
      "17000033673           TESS            image ... 35547840  17000035426\n",
      "17000033673           TESS            image ... 17775360  17000035426\n",
      "17000033685           TESS            image ... 35547840  17000035426\n",
      "17000033685           TESS            image ... 17775360  17000035426\n",
      "17000033699           TESS            image ... 35547840  17000035426\n",
      "17000033699           TESS            image ... 17775360  17000035426\n",
      "        ...            ...              ... ...      ...          ...\n",
      "17000033613           TESS            image ... 35547840  17000035426\n",
      "17000033613           TESS            image ... 17775360  17000035426\n",
      "17000033629           TESS            image ... 35547840  17000035426\n",
      "17000033629           TESS            image ... 17775360  17000035426\n",
      " 7000000008          WUPPE         spectrum ...    21677   7000000008\n",
      " 7000000008          WUPPE         spectrum ...       --   7000000008\n",
      " 7000000008          WUPPE         spectrum ...       --   7000000008\n",
      " 7000000008          WUPPE         spectrum ...    16384   7000000008\n",
      " 7000000008          WUPPE         spectrum ...    26824   7000000008\n",
      " 7000000008          WUPPE         spectrum ...    25600   7000000008\n",
      " 7000000008          WUPPE         spectrum ...       --   7000000008\n",
      "Length = 2571 rows\n"
     ]
    }
   ],
   "source": [
    "obs_table = Observations.query_object(\"47Tuc\",radius=\".02 deg\") \n",
    "data_products_by_obs = Observations.get_product_list(obs_table[0:2])\n",
    "print(data_products_by_obs)"
   ]
  },
  {
   "cell_type": "code",
   "execution_count": 14,
   "metadata": {},
   "outputs": [
    {
     "name": "stdout",
     "output_type": "stream",
     "text": [
      "Help on function query_object in module astroquery.utils.process_asyncs:\n",
      "\n",
      "query_object(self, *args, **kwargs)\n",
      "    Queries the service and returns a table object.\n",
      "    \n",
      "    Given an object name, returns a list of MAST observations.\n",
      "    See column documentation `here <https://mast.stsci.edu/api/v0/_c_a_o_mfields.html>`__.\n",
      "    \n",
      "    Parameters\n",
      "    ----------\n",
      "    objectname : str\n",
      "        The name of the target around which to search.\n",
      "    radius : str or `~astropy.units.Quantity` object, optional\n",
      "        Default 0.2 degrees.\n",
      "        The string must be parsable by `~astropy.coordinates.Angle`.\n",
      "        The appropriate `~astropy.units.Quantity` object from\n",
      "        `~astropy.units` may also be used. Defaults to 0.2 deg.\n",
      "    pagesize : int, optional\n",
      "        Default None.\n",
      "        Can be used to override the default pagesize for (set in configs) this query only.\n",
      "        E.g. when using a slow internet connection.\n",
      "    page : int, optional\n",
      "        Defaulte None.\n",
      "        Can be used to override the default behavior of all results being returned\n",
      "        to obtain a specific page of results.\n",
      "    \n",
      "    Returns\n",
      "    -------\n",
      "    table : A `~astropy.table.Table` object.\n",
      "\n"
     ]
    }
   ],
   "source": [
    "help(Observations.query_object)"
   ]
  }
 ],
 "metadata": {
  "kernelspec": {
   "display_name": "Python 3",
   "language": "python",
   "name": "python3"
  },
  "language_info": {
   "codemirror_mode": {
    "name": "ipython",
    "version": 3
   },
   "file_extension": ".py",
   "mimetype": "text/x-python",
   "name": "python",
   "nbconvert_exporter": "python",
   "pygments_lexer": "ipython3",
   "version": "3.6.12"
  }
 },
 "nbformat": 4,
 "nbformat_minor": 4
}
